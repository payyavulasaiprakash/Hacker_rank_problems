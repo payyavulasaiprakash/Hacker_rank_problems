{
 "cells": [
  {
   "cell_type": "code",
   "execution_count": null,
   "metadata": {},
   "outputs": [],
   "source": [
    "class Solution:\n",
    "    def shuffle(self, nums: List[int], n: int) -> List[int]:\n",
    "        final_list=[]\n",
    "        for i in range(len(nums)//2):\n",
    "            final_list.append(nums[i])\n",
    "            final_list.append(nums[(len(nums)//2)+i])\n",
    "        return(final_list)"
   ]
  }
 ],
 "metadata": {
  "language_info": {
   "name": "python"
  },
  "orig_nbformat": 4
 },
 "nbformat": 4,
 "nbformat_minor": 2
}

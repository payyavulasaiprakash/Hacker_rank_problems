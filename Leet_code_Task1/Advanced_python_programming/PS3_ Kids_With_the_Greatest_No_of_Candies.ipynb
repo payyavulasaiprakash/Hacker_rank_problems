{
 "cells": [
  {
   "cell_type": "markdown",
   "metadata": {},
   "source": [
    "Please refer to the link below for question\n",
    "\n",
    "https://leetcode.com/problems/kids-with-the-greatest-number-of-candies/"
   ]
  },
  {
   "cell_type": "code",
   "execution_count": null,
   "metadata": {},
   "outputs": [],
   "source": [
    "import numpy as np\n",
    "def max_value(candies):\n",
    "    max_candie=candies[0]\n",
    "    for candie in candies:\n",
    "        if candie>max_candie:\n",
    "            max_candie=candie\n",
    "    return max_candie\n",
    "class Solution:\n",
    "    def kidsWithCandies(self, candies: List[int], extraCandies: int) -> List[bool]:\n",
    "        candies=np.array(candies)\n",
    "        added_extraCandies_list=candies+extraCandies\n",
    "        boolean_max_list=added_extraCandies_list>=(max_value(candies))\n",
    "        return boolean_max_list"
   ]
  }
 ],
 "metadata": {
  "language_info": {
   "name": "python"
  },
  "orig_nbformat": 4
 },
 "nbformat": 4,
 "nbformat_minor": 2
}

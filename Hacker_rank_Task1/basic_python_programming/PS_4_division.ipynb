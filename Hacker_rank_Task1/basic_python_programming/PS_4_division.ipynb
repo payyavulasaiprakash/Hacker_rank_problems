{
 "cells": [
  {
   "cell_type": "markdown",
   "metadata": {},
   "source": [
    "Task\n",
    "The provided code stub reads two integers, a and b, from STDIN.\n",
    "\n",
    "Add logic to print two lines. The first line should contain the result of integer division,  a//b . The second line should contain the result of float division,  a/b .\n",
    "\n",
    "No rounding or formatting is necessary.\n",
    "\n",
    "Example\n",
    "a=3\n",
    "b=5\n",
    "\n",
    "The result of the integer division 3//5=0.\n",
    "The result of the float division is 3/5=0.6.\n",
    "Print:\n",
    "\n",
    "0\n",
    "0.6\n",
    "Input Format\n",
    "\n",
    "The first line contains the first integer, .\n",
    "The second line contains the second integer, .\n",
    "\n",
    "Output Format\n",
    "\n",
    "Print the two lines as described above.\n",
    "\n",
    "Sample Input 0\n",
    "\n",
    "4\n",
    "3\n",
    "Sample Output 0\n",
    "\n",
    "1\n",
    "1.33333333333"
   ]
  },
  {
   "cell_type": "code",
   "execution_count": 2,
   "metadata": {},
   "outputs": [
    {
     "name": "stdout",
     "output_type": "stream",
     "text": [
      "1\n",
      "1.3333333333333333\n"
     ]
    }
   ],
   "source": [
    "if __name__ == '__main__':\n",
    "    a = int(input())\n",
    "    b = int(input())\n",
    "    print(a//b,a/b,sep=\"\\n\")"
   ]
  },
  {
   "cell_type": "code",
   "execution_count": null,
   "metadata": {},
   "outputs": [],
   "source": []
  }
 ],
 "metadata": {
  "interpreter": {
   "hash": "8b3bbb631fc4570fc97cbd44e4f7d412612b81ef87b790d9bcfb57b7c0615ff7"
  },
  "kernelspec": {
   "display_name": "Python 3.7.6 64-bit ('base': conda)",
   "language": "python",
   "name": "python3"
  },
  "language_info": {
   "codemirror_mode": {
    "name": "ipython",
    "version": 3
   },
   "file_extension": ".py",
   "mimetype": "text/x-python",
   "name": "python",
   "nbconvert_exporter": "python",
   "pygments_lexer": "ipython3",
   "version": "3.7.6"
  },
  "orig_nbformat": 4
 },
 "nbformat": 4,
 "nbformat_minor": 2
}

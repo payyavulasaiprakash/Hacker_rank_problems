{
 "cells": [
  {
   "cell_type": "markdown",
   "metadata": {},
   "source": [
    "Please refer to the link below for question\n",
    "\n",
    "https://leetcode.com/problems/subtract-the-product-and-sum-of-digits-of-an-integer/"
   ]
  },
  {
   "cell_type": "code",
   "execution_count": null,
   "metadata": {},
   "outputs": [],
   "source": [
    "def individual_digits(n):\n",
    "    divison_value=n\n",
    "    values_sum=0\n",
    "    values_product=1\n",
    "    values_list=[]\n",
    "    for i in range(len(str(n))):\n",
    "        remaninder_value=divison_value%10\n",
    "        divison_value=divison_value//10\n",
    "        values_list.append(remaninder_value)\n",
    "        values_sum+=remaninder_value\n",
    "        values_product*=remaninder_value\n",
    "    return values_list,values_sum,values_product\n",
    "\n",
    "\n",
    "class Solution:\n",
    "    def subtractProductAndSum(self, n: int) -> int:\n",
    "        values_list,values_sum,values_product=individual_digits(n)\n",
    "        return values_product-values_sum"
   ]
  }
 ],
 "metadata": {
  "language_info": {
   "name": "python"
  },
  "orig_nbformat": 4
 },
 "nbformat": 4,
 "nbformat_minor": 2
}

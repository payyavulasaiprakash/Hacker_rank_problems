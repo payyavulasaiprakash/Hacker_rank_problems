{
 "cells": [
  {
   "cell_type": "markdown",
   "metadata": {},
   "source": [
    "Please refer to the link below for question\n",
    "\n",
    "https://leetcode.com/problems/kids-with-the-greatest-number-of-candies/"
   ]
  },
  {
   "cell_type": "code",
   "execution_count": null,
   "metadata": {},
   "outputs": [],
   "source": [
    "def good_pairs(nums):\n",
    "    pairs_list=[]\n",
    "    for index in range(len(nums)):\n",
    "        for index2 in range(index+1,len(nums)):\n",
    "            if nums[index]==nums[index2]:\n",
    "                pairs_list.append((index,index2))\n",
    "\n",
    "    return len(pairs_list)\n",
    "\n",
    "class Solution:\n",
    "    def numIdenticalPairs(self, nums: List[int]) -> int:\n",
    "        return good_pairs(nums)     "
   ]
  }
 ],
 "metadata": {
  "language_info": {
   "name": "python"
  },
  "orig_nbformat": 4
 },
 "nbformat": 4,
 "nbformat_minor": 2
}

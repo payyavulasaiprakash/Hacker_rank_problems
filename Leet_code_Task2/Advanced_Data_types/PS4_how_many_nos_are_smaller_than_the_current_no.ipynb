{
 "cells": [
  {
   "cell_type": "markdown",
   "metadata": {},
   "source": [
    "Please refer to the link below for question\n",
    "\n",
    "https://leetcode.com/problems/how-many-numbers-are-smaller-than-the-current-number/"
   ]
  },
  {
   "cell_type": "code",
   "execution_count": null,
   "metadata": {},
   "outputs": [],
   "source": [
    "def smaller_number_count(current_index,nums):\n",
    "    smaller_count=0\n",
    "    for num in nums:\n",
    "        if num<nums[current_index]:\n",
    "            smaller_count+=1\n",
    "    return smaller_count\n",
    "\n",
    "\n",
    "class Solution:\n",
    "    def smallerNumbersThanCurrent(self, nums: List[int]) -> List[int]:\n",
    "        smallernothancurrent_list=[]\n",
    "        for current_index in range(len(nums)):\n",
    "            smaller_no_with_current_index=smaller_number_count(current_index,nums)\n",
    "            smallernothancurrent_list.append(smaller_no_with_current_index)\n",
    "        return smallernothancurrent_list\n",
    "        "
   ]
  }
 ],
 "metadata": {
  "language_info": {
   "name": "python"
  },
  "orig_nbformat": 4
 },
 "nbformat": 4,
 "nbformat_minor": 2
}

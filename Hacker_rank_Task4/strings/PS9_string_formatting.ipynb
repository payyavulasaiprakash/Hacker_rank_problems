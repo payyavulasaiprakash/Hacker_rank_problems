{
 "cells": [
  {
   "cell_type": "markdown",
   "metadata": {},
   "source": [
    "Please refer the following link for question\n",
    "\n",
    "https://www.hackerrank.com/challenges/python-string-formatting/problem?isFullScreen=true"
   ]
  },
  {
   "cell_type": "code",
   "execution_count": null,
   "metadata": {},
   "outputs": [],
   "source": [
    "def print_formatted(number):\n",
    "    # your code goes here\n",
    "    value = len(bin(number)[2:])\n",
    "    start=2\n",
    "    for i in range(1,number+1):\n",
    "        print(str(i).rjust(value,' '),end=\" \")\n",
    "        print(oct(i)[start:].rjust(value,' '),end=\" \")\n",
    "        print(((hex(i)[start:]).upper()).rjust(value,' '),end=\" \")\n",
    "        print(bin(i)[start:].rjust(value,' '),end=\"\\n\")\n",
    "        \n",
    "\n",
    "if __name__ == '__main__':\n",
    "    n = int(input())\n",
    "    print_formatted(n)"
   ]
  },
  {
   "cell_type": "code",
   "execution_count": null,
   "metadata": {},
   "outputs": [],
   "source": []
  }
 ],
 "metadata": {
  "language_info": {
   "name": "python"
  },
  "orig_nbformat": 4
 },
 "nbformat": 4,
 "nbformat_minor": 2
}

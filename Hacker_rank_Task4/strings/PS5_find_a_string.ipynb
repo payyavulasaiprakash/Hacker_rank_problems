{
 "cells": [
  {
   "cell_type": "markdown",
   "metadata": {},
   "source": [
    "Please refer the following link for question\n",
    "\n",
    "https://www.hackerrank.com/challenges/find-a-string/problem?isFullScreen=true"
   ]
  },
  {
   "cell_type": "code",
   "execution_count": null,
   "metadata": {},
   "outputs": [],
   "source": [
    "def count_substring(string, sub_string):\n",
    "    count=0\n",
    "    len_string=len(string)\n",
    "    len_sub_string=len(sub_string)\n",
    "    for i in range(0,len_string-len_sub_string+1):\n",
    "        if string[i:i+len_sub_string]==sub_string:\n",
    "            count+=1\n",
    "    return count\n",
    "\n",
    "if __name__ == '__main__':\n",
    "    string = input().strip()\n",
    "    sub_string = input().strip()\n",
    "    \n",
    "    count = count_substring(string, sub_string)\n",
    "    print(count)"
   ]
  },
  {
   "cell_type": "code",
   "execution_count": null,
   "metadata": {},
   "outputs": [],
   "source": []
  }
 ],
 "metadata": {
  "language_info": {
   "name": "python"
  },
  "orig_nbformat": 4
 },
 "nbformat": 4,
 "nbformat_minor": 2
}

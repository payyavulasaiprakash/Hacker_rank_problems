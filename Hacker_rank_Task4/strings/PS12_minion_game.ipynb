{
 "cells": [
  {
   "cell_type": "markdown",
   "metadata": {},
   "source": [
    "Please refer the following link for question\n",
    "\n",
    "https://www.hackerrank.com/challenges/the-minion-game/problem?isFullScreen=true"
   ]
  },
  {
   "cell_type": "code",
   "execution_count": 2,
   "metadata": {},
   "outputs": [
    {
     "name": "stdout",
     "output_type": "stream",
     "text": [
      "6 0 0 6\n",
      "6 1 5 6\n",
      "6 2 5 10\n",
      "6 3 8 10\n",
      "6 4 8 12\n",
      "6 5 9 12\n",
      "Stuart 12\n"
     ]
    }
   ],
   "source": [
    "import re\n",
    "def minion_game(string):\n",
    "    # your code goes here\n",
    "    string_length=len(string)\n",
    "    vowel_count = 0\n",
    "    consonant_count = 0\n",
    "     \n",
    "    for i in range(string_length):\n",
    "        if string[i] in 'AEIOU':\n",
    "           vowel_count+=(string_length-i)\n",
    "        else:\n",
    "           consonant_count+=(string_length-i)\n",
    "    \n",
    "    if vowel_count < consonant_count:\n",
    "        print('Stuart ' + str(consonant_count))\n",
    "    elif vowel_count > consonant_count:\n",
    "        print('Kevin ' + str(vowel_count))\n",
    "    else:\n",
    "        print('Draw')\n",
    "\n",
    "\n",
    "if __name__ == '__main__':\n",
    "    s = input()\n",
    "    minion_game(s)"
   ]
  },
  {
   "cell_type": "code",
   "execution_count": null,
   "metadata": {},
   "outputs": [],
   "source": []
  }
 ],
 "metadata": {
  "interpreter": {
   "hash": "8b3bbb631fc4570fc97cbd44e4f7d412612b81ef87b790d9bcfb57b7c0615ff7"
  },
  "kernelspec": {
   "display_name": "Python 3.7.6 64-bit ('base': conda)",
   "language": "python",
   "name": "python3"
  },
  "language_info": {
   "codemirror_mode": {
    "name": "ipython",
    "version": 3
   },
   "file_extension": ".py",
   "mimetype": "text/x-python",
   "name": "python",
   "nbconvert_exporter": "python",
   "pygments_lexer": "ipython3",
   "version": "3.7.6"
  },
  "orig_nbformat": 4
 },
 "nbformat": 4,
 "nbformat_minor": 2
}

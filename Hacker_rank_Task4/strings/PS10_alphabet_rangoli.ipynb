{
 "cells": [
  {
   "cell_type": "markdown",
   "metadata": {},
   "source": [
    "Please refer the following link for question\n",
    "\n",
    "https://www.hackerrank.com/challenges/python-string-split-and-join/problem?isFullScreen=true"
   ]
  },
  {
   "cell_type": "code",
   "execution_count": 7,
   "metadata": {},
   "outputs": [],
   "source": [
    "def print_rangoli(n):\n",
    "    NUmber_of_alphabets=n\n",
    "    # your code goes here\n",
    "    import string\n",
    "    output = string.ascii_lowercase\n",
    "    final_output = []\n",
    "    for i in range(NUmber_of_alphabets):\n",
    "        str_joined = \"-\".join(output[i:NUmber_of_alphabets])\n",
    "        final_output.append((str_joined[::-1]+str_joined[1:]).center(4*NUmber_of_alphabets-3, \"-\"))\n",
    "        \n",
    "    print('\\n'.join(final_output[:0:-1]+final_output))\n",
    "\n",
    "if __name__ == '__main__':\n",
    "    n = int(input())\n",
    "    print_rangoli(n)"
   ]
  },
  {
   "cell_type": "code",
   "execution_count": null,
   "metadata": {},
   "outputs": [],
   "source": []
  }
 ],
 "metadata": {
  "interpreter": {
   "hash": "8b3bbb631fc4570fc97cbd44e4f7d412612b81ef87b790d9bcfb57b7c0615ff7"
  },
  "kernelspec": {
   "display_name": "Python 3.7.6 64-bit ('base': conda)",
   "language": "python",
   "name": "python3"
  },
  "language_info": {
   "codemirror_mode": {
    "name": "ipython",
    "version": 3
   },
   "file_extension": ".py",
   "mimetype": "text/x-python",
   "name": "python",
   "nbconvert_exporter": "python",
   "pygments_lexer": "ipython3",
   "version": "3.7.6"
  },
  "orig_nbformat": 4
 },
 "nbformat": 4,
 "nbformat_minor": 2
}

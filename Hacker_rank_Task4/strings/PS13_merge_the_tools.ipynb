{
 "cells": [
  {
   "cell_type": "markdown",
   "metadata": {},
   "source": [
    "Please refer the following link for question\n",
    "\n",
    "https://www.hackerrank.com/challenges/merge-the-tools/problem?isFullScreen=true"
   ]
  },
  {
   "cell_type": "code",
   "execution_count": null,
   "metadata": {},
   "outputs": [],
   "source": [
    "def merge_the_tools(string, k):\n",
    "    # your code goes here\n",
    "    unique_list = []\n",
    "    len_unique_list = 0\n",
    "    for char in string:\n",
    "        len_unique_list += 1\n",
    "        if char not in unique_list:\n",
    "            unique_list.append(char)\n",
    "        if len_unique_list == k:\n",
    "            print (''.join(unique_list))\n",
    "            unique_list = []\n",
    "            len_unique_list = 0\n",
    "        \n",
    "\n",
    "if __name__ == '__main__':\n",
    "    string, k = input(), int(input())\n",
    "    merge_the_tools(string, k)"
   ]
  },
  {
   "cell_type": "code",
   "execution_count": null,
   "metadata": {},
   "outputs": [],
   "source": []
  },
  {
   "cell_type": "code",
   "execution_count": null,
   "metadata": {},
   "outputs": [],
   "source": []
  }
 ],
 "metadata": {
  "interpreter": {
   "hash": "8b3bbb631fc4570fc97cbd44e4f7d412612b81ef87b790d9bcfb57b7c0615ff7"
  },
  "kernelspec": {
   "display_name": "Python 3.7.6 64-bit ('base': conda)",
   "language": "python",
   "name": "python3"
  },
  "language_info": {
   "codemirror_mode": {
    "name": "ipython",
    "version": 3
   },
   "file_extension": ".py",
   "mimetype": "text/x-python",
   "name": "python",
   "nbconvert_exporter": "python",
   "pygments_lexer": "ipython3",
   "version": "3.7.6"
  },
  "orig_nbformat": 4
 },
 "nbformat": 4,
 "nbformat_minor": 2
}

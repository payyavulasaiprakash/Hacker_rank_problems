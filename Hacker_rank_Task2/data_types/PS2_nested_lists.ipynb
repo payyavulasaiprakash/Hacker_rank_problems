{
 "cells": [
  {
   "cell_type": "markdown",
   "metadata": {},
   "source": [
    "Please refer the following link for question\n",
    "\n",
    "https://www.hackerrank.com/challenges/nested-list/problem?isFullScreen=true"
   ]
  },
  {
   "cell_type": "code",
   "execution_count": null,
   "metadata": {},
   "outputs": [],
   "source": [
    "if __name__ == '__main__':\n",
    "    \n",
    "    names_scores={}\n",
    "    def second_high(scores_sorted):\n",
    "        scores_sorted_no_duplicates=set(scores_sorted)\n",
    "        scores_sorted_no_duplicates_sorted=sorted(scores_sorted_no_duplicates)\n",
    "        second_high_value=scores_sorted_no_duplicates_sorted[1]\n",
    "        return second_high_value\n",
    "    \n",
    "    def multi_index_name(names,scores,second_high_value_output):\n",
    "        output_list=[]\n",
    "        for idx,score_1 in enumerate(scores):\n",
    "            if score_1==second_high_value_output:\n",
    "                output_list.append(idx)\n",
    "        # print(output_list)\n",
    "        second_high_names=[final_name for idex,final_name in enumerate(names) if idex in output_list]\n",
    "        return sorted(second_high_names)\n",
    "    \n",
    "                \n",
    "                \n",
    "    for _ in range(int(input())):\n",
    "        name = input()\n",
    "        score = float(input())\n",
    "        names_scores[name]=score\n",
    "    names=list(names_scores.keys())\n",
    "    scores=list(names_scores.values())\n",
    "    scores_sorted=sorted(scores)\n",
    "    second_high_value_output=second_high(scores_sorted)\n",
    "    for i in multi_index_name(names,scores,second_high_value_output):\n",
    "        print(i)\n",
    "    "
   ]
  },
  {
   "cell_type": "markdown",
   "metadata": {},
   "source": []
  }
 ],
 "metadata": {
  "interpreter": {
   "hash": "8b3bbb631fc4570fc97cbd44e4f7d412612b81ef87b790d9bcfb57b7c0615ff7"
  },
  "kernelspec": {
   "display_name": "Python 3.7.6 64-bit ('base': conda)",
   "language": "python",
   "name": "python3"
  },
  "language_info": {
   "codemirror_mode": {
    "name": "ipython",
    "version": 3
   },
   "file_extension": ".py",
   "mimetype": "text/x-python",
   "name": "python",
   "nbconvert_exporter": "python",
   "pygments_lexer": "ipython3",
   "version": "3.7.6"
  },
  "orig_nbformat": 4
 },
 "nbformat": 4,
 "nbformat_minor": 2
}

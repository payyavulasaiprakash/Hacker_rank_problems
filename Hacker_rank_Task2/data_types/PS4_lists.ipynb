{
 "cells": [
  {
   "cell_type": "markdown",
   "metadata": {},
   "source": [
    "Please refer the following link for question\n",
    "\n",
    "https://www.hackerrank.com/challenges/python-lists/problem?isFullScreen=true"
   ]
  },
  {
   "cell_type": "code",
   "execution_count": 7,
   "metadata": {},
   "outputs": [],
   "source": [
    "if __name__ == '__main__':\n",
    "    N = int(input())\n",
    "    initial_list=[]\n",
    "    no_of_commands=N\n",
    " \n",
    "       \n",
    "    for i in range(no_of_commands):\n",
    "        # print(input())\n",
    "        operations_and_operands=(input()).split(' ')\n",
    "        if operations_and_operands[0]=='insert':\n",
    "            initial_list.insert(int(operations_and_operands[1]),int(operations_and_operands[2]))\n",
    "        elif operations_and_operands[0]=='print':\n",
    "            print(initial_list)\n",
    "        elif operations_and_operands[0]=='remove':\n",
    "            initial_list.remove(int(operations_and_operands[1]))\n",
    "        elif operations_and_operands[0]=='append':\n",
    "            initial_list.append(int(operations_and_operands[1]))\n",
    "        elif operations_and_operands[0]=='sort':\n",
    "            initial_list.sort()\n",
    "        elif operations_and_operands[0]=='pop':\n",
    "            initial_list.pop()\n",
    "        elif operations_and_operands[0]=='reverse':\n",
    "            initial_list.reverse()"
   ]
  },
  {
   "cell_type": "code",
   "execution_count": 8,
   "metadata": {},
   "outputs": [
    {
     "data": {
      "text/plain": [
       "[2]"
      ]
     },
     "execution_count": 8,
     "metadata": {},
     "output_type": "execute_result"
    }
   ],
   "source": [
    "initial_list"
   ]
  },
  {
   "cell_type": "code",
   "execution_count": null,
   "metadata": {},
   "outputs": [],
   "source": []
  }
 ],
 "metadata": {
  "interpreter": {
   "hash": "8b3bbb631fc4570fc97cbd44e4f7d412612b81ef87b790d9bcfb57b7c0615ff7"
  },
  "kernelspec": {
   "display_name": "Python 3.7.6 64-bit ('base': conda)",
   "language": "python",
   "name": "python3"
  },
  "language_info": {
   "codemirror_mode": {
    "name": "ipython",
    "version": 3
   },
   "file_extension": ".py",
   "mimetype": "text/x-python",
   "name": "python",
   "nbconvert_exporter": "python",
   "pygments_lexer": "ipython3",
   "version": "3.7.6"
  },
  "orig_nbformat": 4
 },
 "nbformat": 4,
 "nbformat_minor": 2
}

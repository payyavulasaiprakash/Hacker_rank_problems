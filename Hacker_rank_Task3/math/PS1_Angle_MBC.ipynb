{
 "cells": [
  {
   "cell_type": "markdown",
   "metadata": {},
   "source": [
    "Please refer the following link for question\n",
    "\n",
    "https://www.hackerrank.com/challenges/find-angle/problem?isFullScreen=true\n"
   ]
  },
  {
   "cell_type": "code",
   "execution_count": 2,
   "metadata": {},
   "outputs": [
    {
     "name": "stdout",
     "output_type": "stream",
     "text": [
      "45°\n"
     ]
    }
   ],
   "source": [
    "# Enter your code here. Read input from STDIN. Print output to STDOUT\n",
    "import math\n",
    "user_inputs=[]\n",
    "for user_input_number in range(2):\n",
    "    user_input=int(input())\n",
    "    user_inputs.append(user_input)\n",
    "\n",
    "AB=user_inputs[0]\n",
    "BC=user_inputs[1]\n",
    "hypotenuse_AC = math.sqrt((AB*AB)+(BC*BC))\n",
    "BM =hypotenuse_AC /2.0\n",
    "MC=BM\n",
    "\n",
    "angle_of_MBC = math.acos(BC/(2*MC))\n",
    "\n",
    "angle_of_MBC = int(round((180 * angle_of_MBC) / math.pi))\n",
    "\n",
    "print(angle_of_MBC,'\\u00B0',sep='')\n",
    "    "
   ]
  },
  {
   "cell_type": "code",
   "execution_count": null,
   "metadata": {},
   "outputs": [],
   "source": []
  }
 ],
 "metadata": {
  "interpreter": {
   "hash": "31f2aee4e71d21fbe5cf8b01ff0e069b9275f58929596ceb00d14d90e3e16cd6"
  },
  "kernelspec": {
   "display_name": "Python 3.8.10 64-bit",
   "language": "python",
   "name": "python3"
  },
  "language_info": {
   "codemirror_mode": {
    "name": "ipython",
    "version": 3
   },
   "file_extension": ".py",
   "mimetype": "text/x-python",
   "name": "python",
   "nbconvert_exporter": "python",
   "pygments_lexer": "ipython3",
   "version": "3.7.6"
  },
  "orig_nbformat": 4
 },
 "nbformat": 4,
 "nbformat_minor": 2
}

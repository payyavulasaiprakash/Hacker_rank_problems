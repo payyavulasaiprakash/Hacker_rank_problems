{
 "cells": [
  {
   "cell_type": "markdown",
   "metadata": {},
   "source": [
    "Please refer the following link for question\n",
    "\n",
    "https://www.hackerrank.com/challenges/hex-color-code/problem?isFullScreen=true"
   ]
  },
  {
   "cell_type": "code",
   "execution_count": 2,
   "metadata": {},
   "outputs": [
    {
     "name": "stdout",
     "output_type": "stream",
     "text": [
      "1\n"
     ]
    }
   ],
   "source": [
    "# Enter your code here. Read input from STDIN. Print output to STDOUT\n",
    "import re\n",
    "number=int(input())\n",
    "in_css = False\n",
    "regex='#[A-Fa-f0-9]{3,6}'\n",
    "for test in range(number):\n",
    "    str_input=input()\n",
    "    if '{' in str_input:\n",
    "        in_css = True\n",
    "    elif '}' in str_input:\n",
    "        in_css = False\n",
    "    elif in_css:\n",
    "        output=re.findall(regex,str_input)\n",
    "        for hexa in output:\n",
    "            print(hexa)"
   ]
  },
  {
   "cell_type": "code",
   "execution_count": null,
   "metadata": {},
   "outputs": [],
   "source": []
  }
 ],
 "metadata": {
  "interpreter": {
   "hash": "8b3bbb631fc4570fc97cbd44e4f7d412612b81ef87b790d9bcfb57b7c0615ff7"
  },
  "kernelspec": {
   "display_name": "Python 3.7.6 64-bit ('base': conda)",
   "language": "python",
   "name": "python3"
  },
  "language_info": {
   "codemirror_mode": {
    "name": "ipython",
    "version": 3
   },
   "file_extension": ".py",
   "mimetype": "text/x-python",
   "name": "python",
   "nbconvert_exporter": "python",
   "pygments_lexer": "ipython3",
   "version": "3.7.6"
  },
  "orig_nbformat": 4
 },
 "nbformat": 4,
 "nbformat_minor": 2
}

{
 "cells": [
  {
   "cell_type": "markdown",
   "metadata": {},
   "source": [
    "Please refer the following link for question\n",
    "\n",
    "https://www.hackerrank.com/challenges/html-parser-part-1/problem?isFullScreen=true"
   ]
  },
  {
   "cell_type": "code",
   "execution_count": 2,
   "metadata": {},
   "outputs": [
    {
     "name": "stdout",
     "output_type": "stream",
     "text": [
      "1\n"
     ]
    }
   ],
   "source": [
    "# Enter your code here. Read input from STDIN. Print output to STDOUT\n",
    "import re\n",
    "from html.parser import HTMLParser\n",
    "\n",
    "class MyHTMLParser(HTMLParser):\n",
    "    def handle_starttag(self, tag, attrs):\n",
    "        print (\"Start :\", tag)\n",
    "        self.value(attrs)\n",
    "\n",
    "    def handle_endtag(self, tag):\n",
    "        print (\"End   :\", tag)\n",
    "\n",
    "    def handle_startendtag(self, tag, attrs):\n",
    "        print (\"Empty :\", tag)\n",
    "        self.value(attrs)\n",
    "\n",
    "    def value(self, attrs = None):\n",
    "        if attrs:\n",
    "            [print('->', attr, '>', val) for attr, val, in attrs]\n",
    "number=int(input())\n",
    "input_string = '\\n'.join([input() for x in range(number)])\n",
    "parser = MyHTMLParser()\n",
    "parser.feed(input_string)"
   ]
  },
  {
   "cell_type": "code",
   "execution_count": null,
   "metadata": {},
   "outputs": [],
   "source": []
  }
 ],
 "metadata": {
  "interpreter": {
   "hash": "8b3bbb631fc4570fc97cbd44e4f7d412612b81ef87b790d9bcfb57b7c0615ff7"
  },
  "kernelspec": {
   "display_name": "Python 3.7.6 64-bit ('base': conda)",
   "language": "python",
   "name": "python3"
  },
  "language_info": {
   "codemirror_mode": {
    "name": "ipython",
    "version": 3
   },
   "file_extension": ".py",
   "mimetype": "text/x-python",
   "name": "python",
   "nbconvert_exporter": "python",
   "pygments_lexer": "ipython3",
   "version": "3.7.6"
  },
  "orig_nbformat": 4
 },
 "nbformat": 4,
 "nbformat_minor": 2
}

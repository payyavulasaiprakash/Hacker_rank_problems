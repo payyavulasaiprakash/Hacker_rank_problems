{
 "cells": [
  {
   "cell_type": "markdown",
   "metadata": {},
   "source": [
    "Please refer the following link for question\n",
    "\n",
    "https://www.hackerrank.com/challenges/validating-postalcode/problem?isFullScreen=true"
   ]
  },
  {
   "cell_type": "code",
   "execution_count": 10,
   "metadata": {},
   "outputs": [
    {
     "name": "stdout",
     "output_type": "stream",
     "text": [
      "<re.Match object; span=(0, 1), match='1'>\n",
      "1\n",
      "1\n",
      "<re.Match object; span=(2, 3), match='a'>\n",
      "a\n",
      "a\n",
      "<re.Match object; span=(4, 5), match='2'>\n",
      "2\n",
      "2\n",
      "<re.Match object; span=(6, 7), match='3'>\n",
      "3\n",
      "3\n",
      "<re.Match object; span=(8, 9), match='4'>\n",
      "4\n",
      "4\n",
      "<re.Match object; span=(10, 11), match='5'>\n",
      "5\n",
      "5\n",
      "<re.Match object; span=(12, 13), match='6'>\n",
      "6\n",
      "6\n",
      "<re.Match object; span=(14, 15), match='7'>\n",
      "7\n",
      "7\n",
      "<re.Match object; span=(16, 17), match='8'>\n",
      "8\n",
      "8\n",
      "11 aa 22 33 44 55 66 77 88\n"
     ]
    }
   ],
   "source": [
    "regex_integer_in_range = r\"^[1-9][0-9]{5}$\"\t# Do not delete 'r'.\n",
    "regex_alternating_repetitive_digit_pair = r\"(?=(.)(.)(\\1))\"\t# Do not delete 'r'.\n",
    "\n",
    "\n",
    "import re\n",
    "P = input()\n",
    "\n",
    "print (bool(re.match(regex_integer_in_range, P)) \n",
    "and len(re.findall(regex_alternating_repetitive_digit_pair, P)) < 2)"
   ]
  },
  {
   "cell_type": "code",
   "execution_count": null,
   "metadata": {},
   "outputs": [],
   "source": []
  }
 ],
 "metadata": {
  "interpreter": {
   "hash": "8b3bbb631fc4570fc97cbd44e4f7d412612b81ef87b790d9bcfb57b7c0615ff7"
  },
  "kernelspec": {
   "display_name": "Python 3.7.6 64-bit ('base': conda)",
   "language": "python",
   "name": "python3"
  },
  "language_info": {
   "codemirror_mode": {
    "name": "ipython",
    "version": 3
   },
   "file_extension": ".py",
   "mimetype": "text/x-python",
   "name": "python",
   "nbconvert_exporter": "python",
   "pygments_lexer": "ipython3",
   "version": "3.7.6"
  },
  "orig_nbformat": 4
 },
 "nbformat": 4,
 "nbformat_minor": 2
}

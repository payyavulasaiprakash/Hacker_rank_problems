{
 "cells": [
  {
   "cell_type": "markdown",
   "metadata": {},
   "source": [
    "Please refer the following link for question\n",
    "\n",
    "https://www.hackerrank.com/challenges/html-parser-part-2/problem?isFullScreen=true"
   ]
  },
  {
   "cell_type": "code",
   "execution_count": 5,
   "metadata": {},
   "outputs": [
    {
     "name": "stdout",
     "output_type": "stream",
     "text": [
      "ee\n",
      "eeeee\n"
     ]
    }
   ],
   "source": [
    "# Enter your code here. Read input from STDIN. Print output to STDOUT\n",
    "\n",
    "import re\n",
    "\n",
    "def replacer(data):\n",
    "    data=data.replace(\"<!--\",'')\n",
    "    data=data.replace(\"-->\",'')\n",
    "    return data\n",
    "    \n",
    "def comment(data):\n",
    "    if re.findall(r'\\n',data):\n",
    "        data=replacer(data)\n",
    "        data_list=re.findall('</?[a-z]+>',data)\n",
    "        for replace_value in data_list:\n",
    "            data=data.replace(replace_value,'')\n",
    "        print(\">>> Multi-line Comment \\n\",data)\n",
    "    else:\n",
    "        data=replacer(data)\n",
    "        print(\">>> Single-line Comment \\n\",data)\n",
    "        data_list=re.findall('</?[a-z]+>',data)\n",
    "        for replace_value in data_list:\n",
    "            data=data.replace(replace_value,'')\n",
    "        \n",
    "def data(data):\n",
    "    if len(data) >1:\n",
    "        data=replacer(data)\n",
    "        data_list=re.findall('</?[a-z]+>',data)\n",
    "        for replace_value in data_list:\n",
    "            data=data.replace(replace_value,'')\n",
    "        print(\">>> Data\\n\",data)\n",
    "        \n",
    "input_string = \"\"   \n",
    "    \n",
    "for i in range(int(input())):\n",
    "    input_string += (input().rstrip())+'\\n'\n",
    "\n",
    "comment(input_string)\n",
    "data(input_string)\n",
    "\n",
    "\n"
   ]
  },
  {
   "cell_type": "code",
   "execution_count": null,
   "metadata": {},
   "outputs": [],
   "source": []
  }
 ],
 "metadata": {
  "interpreter": {
   "hash": "8b3bbb631fc4570fc97cbd44e4f7d412612b81ef87b790d9bcfb57b7c0615ff7"
  },
  "kernelspec": {
   "display_name": "Python 3.7.6 64-bit ('base': conda)",
   "language": "python",
   "name": "python3"
  },
  "language_info": {
   "codemirror_mode": {
    "name": "ipython",
    "version": 3
   },
   "file_extension": ".py",
   "mimetype": "text/x-python",
   "name": "python",
   "nbconvert_exporter": "python",
   "pygments_lexer": "ipython3",
   "version": "3.7.6"
  },
  "orig_nbformat": 4
 },
 "nbformat": 4,
 "nbformat_minor": 2
}

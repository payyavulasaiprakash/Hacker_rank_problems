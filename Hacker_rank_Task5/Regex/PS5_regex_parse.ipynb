{
 "cells": [
  {
   "cell_type": "markdown",
   "metadata": {},
   "source": [
    "Please refer the following link for question\n",
    "\n",
    "https://www.hackerrank.com/challenges/python-integers-come-in-all-sizes/problem?isFullScreen=true"
   ]
  },
  {
   "cell_type": "code",
   "execution_count": 10,
   "metadata": {},
   "outputs": [
    {
     "name": "stdout",
     "output_type": "stream",
     "text": [
      "<re.Match object; span=(0, 1), match='1'>\n",
      "1\n",
      "1\n",
      "<re.Match object; span=(2, 3), match='a'>\n",
      "a\n",
      "a\n",
      "<re.Match object; span=(4, 5), match='2'>\n",
      "2\n",
      "2\n",
      "<re.Match object; span=(6, 7), match='3'>\n",
      "3\n",
      "3\n",
      "<re.Match object; span=(8, 9), match='4'>\n",
      "4\n",
      "4\n",
      "<re.Match object; span=(10, 11), match='5'>\n",
      "5\n",
      "5\n",
      "<re.Match object; span=(12, 13), match='6'>\n",
      "6\n",
      "6\n",
      "<re.Match object; span=(14, 15), match='7'>\n",
      "7\n",
      "7\n",
      "<re.Match object; span=(16, 17), match='8'>\n",
      "8\n",
      "8\n",
      "11 aa 22 33 44 55 66 77 88\n"
     ]
    }
   ],
   "source": [
    "import re\n",
    "user_input_number=input()\n",
    "def replacer(string):\n",
    "    if str(string.group(0))=='&&':\n",
    "        return 'and'\n",
    "    return 'or'\n",
    "for not_used in range(int(user_input_number)):\n",
    "    user_input_read_line=input()\n",
    "    print(re.sub(r\"(?<= )(\\|\\||&&)(?= )\", replacer,user_input_read_line))"
   ]
  },
  {
   "cell_type": "code",
   "execution_count": null,
   "metadata": {},
   "outputs": [],
   "source": []
  }
 ],
 "metadata": {
  "interpreter": {
   "hash": "8b3bbb631fc4570fc97cbd44e4f7d412612b81ef87b790d9bcfb57b7c0615ff7"
  },
  "kernelspec": {
   "display_name": "Python 3.7.6 64-bit ('base': conda)",
   "language": "python",
   "name": "python3"
  },
  "language_info": {
   "codemirror_mode": {
    "name": "ipython",
    "version": 3
   },
   "file_extension": ".py",
   "mimetype": "text/x-python",
   "name": "python",
   "nbconvert_exporter": "python",
   "pygments_lexer": "ipython3",
   "version": "3.7.6"
  },
  "orig_nbformat": 4
 },
 "nbformat": 4,
 "nbformat_minor": 2
}
